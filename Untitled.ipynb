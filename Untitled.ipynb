{
 "cells": [
  {
   "cell_type": "code",
   "execution_count": null,
   "metadata": {
    "collapsed": true
   },
   "outputs": [],
   "source": [
    "#!/usr/bin/python3\n",
    "# -*- coding: utf-8 -*-\n",
    "\n",
    "\"\"\"\n",
    "ZetCode PyQt5 tutorial\n",
    "\n",
    "In this example, a QCheckBox widget\n",
    "is used to toggle the title of a window.\n",
    "\n",
    "Author: Jan Bodnar\n",
    "Website: zetcode.com\n",
    "Last edited: August 2017\n",
    "\"\"\"\n",
    "\n",
    "from PyQt5.QtWidgets import QWidget, QCheckBox, QApplication\n",
    "from PyQt5.QtCore import Qt\n",
    "import sys\n",
    "\n",
    "\n",
    "class Example(QWidget):\n",
    "    def __init__(self):\n",
    "        super().__init__()\n",
    "\n",
    "        self.initUI()\n",
    "\n",
    "    def initUI(self):\n",
    "\n",
    "        cb = QCheckBox('Show title', self)\n",
    "        cb.move(20, 20)\n",
    "        cb.toggle()\n",
    "        cb.stateChanged.connect(self.changeTitle)\n",
    "\n",
    "        self.setGeometry(300, 300, 250, 150)\n",
    "        self.setWindowTitle('QCheckBox')\n",
    "        self.show()\n",
    "\n",
    "    def changeTitle(self, state):\n",
    "\n",
    "        if state == Qt.Checked:\n",
    "            self.setWindowTitle('QCheckBox')\n",
    "        else:\n",
    "            self.setWindowTitle(' ')\n",
    "\n",
    "\n",
    "if __name__ == '__main__':\n",
    "    app = QApplication(sys.argv)\n",
    "    ex = Example()\n",
    "    sys.exit(app.exec_())"
   ]
  }
 ],
 "metadata": {
  "kernelspec": {
   "display_name": "Python 3",
   "language": "python",
   "name": "python3"
  },
  "language_info": {
   "codemirror_mode": {
    "name": "ipython",
    "version": 3
   },
   "file_extension": ".py",
   "mimetype": "text/x-python",
   "name": "python",
   "nbconvert_exporter": "python",
   "pygments_lexer": "ipython3",
   "version": "3.6.1"
  }
 },
 "nbformat": 4,
 "nbformat_minor": 2
}
